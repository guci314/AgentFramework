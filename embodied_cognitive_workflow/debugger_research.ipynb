{
 "cells": [
  {
   "cell_type": "code",
   "execution_count": 1,
   "id": "aee1a0a4",
   "metadata": {},
   "outputs": [
    {
     "name": "stderr",
     "output_type": "stream",
     "text": [
      "2025-07-17 13:19:31,315 - psutil_patch - INFO - psutil 已经导入，补丁不会再次导入它\n"
     ]
    },
    {
     "name": "stdout",
     "output_type": "stream",
     "text": [
      "💡 Python核心模块已加载。这是轻量级版本，不包含语言模型定义。\n",
      "💡 真正的懒加载模型模块已加载。使用 get_model('model_name') 按需获取模型。\n",
      "✅ 成功加载模型: deepseek_chat\n"
     ]
    }
   ],
   "source": [
    "import sys\n",
    "import os\n",
    "# 添加根目录到Python路径\n",
    "sys.path.insert(0, os.path.join(os.getcwd(), '..'))\n",
    "\n",
    "from python_core import *\n",
    "from llm_lazy import get_model\n",
    "llm = get_model('deepseek_chat')"
   ]
  },
  {
   "cell_type": "code",
   "execution_count": 2,
   "id": "766c6c25",
   "metadata": {},
   "outputs": [],
   "source": [
    "# 导入必要的模块\n",
    "from embodied_cognitive_workflow import CognitiveAgent\n",
    "from cognitive_debugger import CognitiveDebugger, StepType\n",
    "import sys\n",
    "import os"
   ]
  },
  {
   "cell_type": "code",
   "execution_count": 5,
   "id": "35cdb754",
   "metadata": {},
   "outputs": [
    {
     "name": "stdout",
     "output_type": "stream",
     "text": [
      "✅ 成功创建认知智能体\n",
      "✅ 调试器创建成功！\n",
      "🎯 开始调试任务: \n",
      "请开发一个完整的Calculator类和对应的单元测试。请创建两个文件：calculator.py（Calculator类）和 test_calculator.py（单元测试）要求如下：\n",
      "\n",
      "1. Calculator类功能：\n",
      "   - 基本四则运算：加法、减法、乘法、除法\n",
      "   - 错误处理：除零检查\n",
      "   \n",
      "# 附加要求：\n",
      "不需要测试覆盖率\n",
      "\n",
      "🚀 开始调试认知循环\n",
      "📝 指令: \n",
      "请开发一个完整的Calculator类和对应的单元测试。请创建两个文件：calculator.py（Calculator类）和 test_calculator.py（单元测试）要求如下：\n",
      "\n",
      "1. Calculator类功能：\n",
      "   - 基本四则运算：加法、减法、乘法、除法\n",
      "   - 错误处理：除零检查\n",
      "   \n",
      "# 附加要求：\n",
      "不需要测试覆盖率\n",
      "\n",
      "⚙️  智能体配置:\n",
      "   - 最大循环数: 5\n",
      "   - 元认知启用: False\n",
      "   - 评估模式: internal\n",
      "🔧 调试器就绪，使用 run_one_step() 开始单步执行\n",
      "\n",
      "✅ 调试任务启动成功!\n",
      "\n",
      "🔧 设置断点演示:\n",
      "✅ 所有断点已清除\n",
      "✅ 已清除所有现有断点\n",
      "\n",
      "🛑 设置无条件断点：在身体执行步骤停止\n",
      "✅ 断点已设置\n",
      "   ID: 7cfa7963\n",
      "   步骤: 身体执行\n",
      "   描述: 身体执行步骤断点\n",
      "   ✅ 断点已设置，ID: 7cfa7963\n",
      "\n",
      "📋 当前所有断点:\n",
      "   - [7cfa7963] 身体执行: 身体执行步骤断点\n",
      "     条件: 无条件断点\n",
      "\n",
      "🚀 开始执行并演示断点触发:\n"
     ]
    }
   ],
   "source": [
    "# 创建认知智能体（而不是普通的Agent）\n",
    "agent = CognitiveAgent(\n",
    "    llm=llm,\n",
    "    max_cycles=5,\n",
    "    verbose=False,  # 调试器会处理输出，这里关闭详细输出\n",
    "    enable_meta_cognition=False,  # 简单任务不需要元认知\n",
    "    evaluation_mode=\"internal\"\n",
    ")\n",
    "print(\"✅ 成功创建认知智能体\")\n",
    "\n",
    "# 创建调试器\n",
    "debugger = CognitiveDebugger(agent)\n",
    "print(\"✅ 调试器创建成功！\")\n",
    "\n",
    "# 选择一个更简单的任务来演示条件断点\n",
    "# task = \"请计算1到10的所有数字之和，并逐步展示计算过程\"\n",
    "task = \"\"\"\n",
    "请开发一个完整的Calculator类和对应的单元测试。请创建两个文件：calculator.py（Calculator类）和 test_calculator.py（单元测试）要求如下：\n",
    "\n",
    "1. Calculator类功能：\n",
    "   - 基本四则运算：加法、减法、乘法、除法\n",
    "   - 错误处理：除零检查\n",
    "   \n",
    "# 附加要求：\n",
    "不需要测试覆盖率\n",
    "\"\"\"\n",
    "print(f\"🎯 开始调试任务: {task}\")\n",
    "\n",
    "# 启动调试\n",
    "debugger.start_debug(task)\n",
    "print(\"✅ 调试任务启动成功!\")\n",
    "\n",
    "# ========== 演示断点功能 ==========\n",
    "print(\"\\n🔧 设置断点演示:\")\n",
    "\n",
    "# 清除所有现有断点\n",
    "debugger.clear_breakpoints()\n",
    "print(\"✅ 已清除所有现有断点\")\n",
    "\n",
    "# 设置一个无条件断点在身体执行步骤\n",
    "print(\"\\n🛑 设置无条件断点：在身体执行步骤停止\")\n",
    "breakpoint_id = debugger.set_breakpoint(\n",
    "    StepType.BODY_EXECUTION,  # 改为身体执行步骤\n",
    "    description=\"身体执行步骤断点\"\n",
    ")\n",
    "print(f\"   ✅ 断点已设置，ID: {breakpoint_id}\")\n",
    "\n",
    "print(\"\\n📋 当前所有断点:\")\n",
    "for bp in debugger.breakpoint_manager.list_breakpoints():\n",
    "    print(f\"   - [{bp.id}] {bp.step_type.value}: {bp.description}\")\n",
    "    if bp.condition:\n",
    "        print(f\"     条件: {bp.condition}\")\n",
    "    else:\n",
    "        print(f\"     条件: 无条件断点\")\n",
    "\n",
    "# ========== 演示运行到断点 ==========\n",
    "print(\"\\n🚀 开始执行并演示断点触发:\")"
   ]
  },
  {
   "cell_type": "code",
   "execution_count": null,
   "id": "143af53f",
   "metadata": {},
   "outputs": [],
   "source": "# 使用 run_until_breakpoint 方法执行到断点\n\nresults = debugger.run_until_breakpoint()\n\nif results:\n    print(f\"\\n🛑 断点触发！已执行 {len(results)} 个步骤\")\n    last_step = results[-1]\n    print(f\"   触发断点的步骤: {last_step.step_type.value}\")\n    print(f\"   循环轮数: {debugger.debug_state.cycle_count}\")\n    \n    # 在身体执行断点处打印执行指令和agent名称\n    if last_step.step_type == StepType.BODY_EXECUTION:\n        print(\"\\n📝 身体执行步骤信息:\")\n        \n        # 获取执行指令\n        execution_instruction = getattr(debugger.debug_state, 'execution_instruction', None)\n        if execution_instruction:\n            print(f\"   执行指令: {execution_instruction}\")\n        else:\n            print(\"   执行指令: (未找到具体指令)\")\n        \n        # 获取选定的Agent名称\n        selected_agent = getattr(debugger.debug_state, 'selected_agent', None)\n        if selected_agent:\n            print(f\"   执行Agent名称: {selected_agent}\")\n        else:\n            print(\"   执行Agent名称: (默认Agent)\")\n        \n        # 获取实际的Agent实例\n        selected_agent_instance = getattr(debugger.debug_state, 'selected_agent_instance', None)\n        if selected_agent_instance:\n            print(f\"   执行Agent实例: {selected_agent_instance.__class__.__name__}\")\n        \n        # 从debug_info中获取更多信息\n        if last_step.debug_info:\n            if 'instruction' in last_step.debug_info:\n                print(f\"   Debug信息-指令: {last_step.debug_info['instruction']}\")\n            if 'agent_name' in last_step.debug_info:\n                print(f\"   Debug信息-Agent: {last_step.debug_info['agent_name']}\")\n    \n    # 检查当前状态\n    current_state = debugger.capture_debug_snapshot()\n    print(f\"\\n   当前状态分析: {current_state.current_state_analysis}\")\n    \n    # 可以在断点处执行一些调试操作\n    print(\"\\n🔍 在断点处进行调试检查...\")\n    print(f\"   - 目标是否达成: {current_state.goal_achieved}\")\n    print(f\"   - 执行步骤数: {current_state.total_steps}\")"
  },
  {
   "cell_type": "code",
   "execution_count": 11,
   "id": "qm1c1opqf",
   "metadata": {},
   "outputs": [
    {
     "name": "stdout",
     "output_type": "stream",
     "text": [
      "\n",
      "🎉 任务执行完成！\n",
      "   总循环数: 1\n",
      "WorkflowContext(指令='\n",
      "请开发一个完整的Calculator类和对应的单元测试。请...', 循环=初始化, 目标=已达成, 历史记录=2条)\n"
     ]
    }
   ],
   "source": [
    "\n",
    "# 查看最终结果\n",
    "if debugger.debug_state.is_finished:\n",
    "    print(f\"\\n🎉 任务执行完成！\")\n",
    "    print(f\"   总循环数: {debugger.debug_state.cycle_count}\")\n",
    "    \n",
    "    print(debugger.debug_state.workflow_context)"
   ]
  }
 ],
 "metadata": {
  "kernelspec": {
   "display_name": "Python 3",
   "language": "python",
   "name": "python3"
  },
  "language_info": {
   "codemirror_mode": {
    "name": "ipython",
    "version": 3
   },
   "file_extension": ".py",
   "mimetype": "text/x-python",
   "name": "python",
   "nbconvert_exporter": "python",
   "pygments_lexer": "ipython3",
   "version": "3.10.12"
  }
 },
 "nbformat": 4,
 "nbformat_minor": 5
}