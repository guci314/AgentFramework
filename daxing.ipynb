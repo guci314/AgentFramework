{
 "cells": [
  {
   "cell_type": "code",
   "execution_count": 1,
   "id": "29242607",
   "metadata": {},
   "outputs": [
    {
     "name": "stderr",
     "output_type": "stream",
     "text": [
      "2025-07-17 22:07:08,244 - psutil_patch - INFO - psutil 已经导入，补丁不会再次导入它\n"
     ]
    },
    {
     "name": "stdout",
     "output_type": "stream",
     "text": [
      "💡 Python核心模块已加载。这是轻量级版本，不包含语言模型定义。\n",
      "💡 真正的懒加载模型模块已加载。使用 get_model('model_name') 按需获取模型。\n"
     ]
    }
   ],
   "source": [
    "from python_core import *\n",
    "from llm_lazy import get_model"
   ]
  },
  {
   "cell_type": "code",
   "execution_count": 2,
   "id": "9626d229",
   "metadata": {},
   "outputs": [
    {
     "name": "stdout",
     "output_type": "stream",
     "text": [
      "✅ 成功加载模型: deepseek_chat\n"
     ]
    },
    {
     "data": {
      "text/plain": [
       "<module 'tianyanzi_api' from '/home/guci/aiProjects/AgentFrameWork/tianyanzi_api.py'>"
      ]
     },
     "execution_count": 2,
     "metadata": {},
     "output_type": "execute_result"
    },
    {
     "name": "stdout",
     "output_type": "stream",
     "text": [
      "调用c++实现模型某个点的左移：10\n",
      "已执行左移操作\n",
      "任务完成\n"
     ]
    },
    {
     "name": "stderr",
     "output_type": "stream",
     "text": [
      "2025-07-17 22:07:24,045 - root - INFO - === 开始评估 ===\n",
      "2025-07-17 22:07:24,050 - root - INFO - 使用 1 个评估器进行评估...\n",
      "2025-07-17 22:07:24,054 - root - INFO - 执行评估器 #1:\n",
      "2025-07-17 22:07:24,084 - root - INFO - 评估器 #1 评估结果: 成功\n",
      "2025-07-17 22:07:24,089 - root - INFO - === 评估总结 ===\n",
      "2025-07-17 22:07:24,097 - root - INFO - 整体评估结果: 成功\n",
      "2025-07-17 22:07:24,103 - root - INFO - 详细信息: 所有评估器都通过\n",
      "#1: 程序成功执行且输出了预期结果，无错误信息\n",
      "2025-07-17 22:07:24,108 - python_core - INFO - 开始生成指令最终结果\n",
      "2025-07-17 22:07:24,112 - python_core - INFO - result.success: True\n",
      "2025-07-17 22:07:24,119 - python_core - INFO - result.code: \n",
      "try:\n",
      "    '''\n",
      "    调用tianyanzi_api模块的left_move函数，\n",
      "    将模型的点左移10个单位\n",
      "    '''\n",
      "    tianyanzi_api.left_move(10)\n",
      "    \n",
      "    # 验证函数是否被调用\n",
      "    print(\"已执行左移操作\")\n",
      "    print(\"任务完成\")\n",
      "    \n",
      "except Exception as e:\n",
      "    print(f\"发生错误: {str(e)}\")\n",
      "2025-07-17 22:07:24,126 - python_core - INFO - result.stdout: 调用c++实现模型某个点的左移：10\n",
      "已执行左移操作\n",
      "任务完成\n",
      "\n",
      "2025-07-17 22:07:24,132 - python_core - INFO - result.stderr: None\n",
      "2025-07-17 22:07:24,135 - python_core - INFO - result.return_value: None\n"
     ]
    },
    {
     "name": "stdout",
     "output_type": "stream",
     "text": [
      "已成功将模型的点左移10个单位。操作执行过程如下：\n",
      "1. 调用底层C++实现的位移函数\n",
      "2. 完成10个单位的左移操作\n",
      "3. 系统返回执行成功状态\n",
      "\n",
      "当前模型点的新坐标已更新，如需进一步调整或其他操作请随时告知。\n"
     ]
    }
   ],
   "source": [
    "llm = get_model('deepseek_chat')\n",
    "agent = Agent(llm)\n",
    "agent.loadPythonModules([\"tianyanzi_api\"])\n",
    "x=agent.execute_sync(\"请把模型的点左移10个单位\")\n",
    "\n",
    "print(x.return_value)"
   ]
  },
  {
   "cell_type": "code",
   "execution_count": 6,
   "id": "d7ab11aa",
   "metadata": {},
   "outputs": [
    {
     "name": "stderr",
     "output_type": "stream",
     "text": [
      "2025-07-17 22:42:46,824 - httpx - INFO - HTTP Request: POST https://api.deepseek.com/chat/completions \"HTTP/1.1 200 OK\"\n"
     ]
    },
    {
     "name": "stdout",
     "output_type": "stream",
     "text": [
      "{\n",
      "  \"偏移方向\": 1,\n",
      "  \"偏移距离\": 13,\n",
      "  \"起始点\": 40,\n",
      "  \"终止点\": 39,\n",
      "  \"新插点\": 38,\n",
      "  \"连线\": [40, 39]\n",
      "}\n"
     ]
    }
   ],
   "source": [
    "agent = Agent(llm)\n",
    "agent.loadKnowledge('''\n",
    "从用户的输入中提取出以下信息：\n",
    "偏移方向：整数\n",
    "偏移距离：整数\n",
    "起始点：整数\n",
    "终止点：整数\n",
    "新插点：整数\n",
    "连线：两个整数\n",
    "\n",
    "\n",
    "输出格式是json\n",
    "                    ''')\n",
    "x=agent.chat_sync('''\n",
    "第1个内插一个点38，在40和39节点之间，38垂直于40和39线，并向右偏移13米。\n",
    "                ''',response_format={\"type\": \"json_object\"})\n",
    "\n",
    "print(x.return_value)\n",
    "\n",
    "\n",
    "# x=agent.chat_sync('''\n",
    "# 在剖面节点4与9之间内插一个新点50，50垂直于4和9连线，向左偏移距离3米\n",
    "#                 ''',response_format={\"type\": \"json_object\"})\n",
    "\n",
    "# print(x.return_value)"
   ]
  },
  {
   "cell_type": "code",
   "execution_count": 8,
   "id": "1bbdeaf9",
   "metadata": {},
   "outputs": [
    {
     "name": "stderr",
     "output_type": "stream",
     "text": [
      "2025-07-17 22:47:14,847 - httpx - INFO - HTTP Request: POST https://api.deepseek.com/chat/completions \"HTTP/1.1 200 OK\"\n"
     ]
    },
    {
     "name": "stdout",
     "output_type": "stream",
     "text": [
      "{\n",
      "  \"插入点\": [\n",
      "    {\n",
      "      \"偏移方向\": 1,\n",
      "      \"偏移距离\": 13,\n",
      "      \"起始点\": 40,\n",
      "      \"终止点\": 39,\n",
      "      \"新插点\": 38,\n",
      "      \"连线\": [40, 39]\n",
      "    },\n",
      "    {\n",
      "      \"偏移方向\": -1,\n",
      "      \"偏移距离\": 3,\n",
      "      \"起始点\": 38,\n",
      "      \"终止点\": 39,\n",
      "      \"新插点\": 77,\n",
      "      \"连线\": [38, 39]\n",
      "    }\n",
      "  ]\n",
      "}\n"
     ]
    }
   ],
   "source": [
    "agent = Agent(llm)\n",
    "agent.loadKnowledge('''\n",
    "用户会输入多个插入点，从用户的输入中提出多个插入点的信息，用json数组格式输出：\n",
    "每个插入点包含以下信息：\n",
    "偏移方向：整数\n",
    "偏移距离：整数\n",
    "起始点：整数\n",
    "终止点：整数\n",
    "新插点：整数\n",
    "连线：两个整数\n",
    "\n",
    "#要求\n",
    "1：插入点的字段名必须是上面提供的中文名，不能用英文名\n",
    "\n",
    "\n",
    "                    ''')\n",
    "x=agent.chat_sync('''\n",
    "第1个内插一个点38，在40和39节点之间，38垂直于40和39线，并向右偏移13米。\n",
    "第2个内插一个点77，在38和39节点之间，点77垂直于38和39，并向左偏移3米。\n",
    "                ''',response_format={\"type\": \"json_object\"})\n",
    "\n",
    "print(x.return_value)\n",
    "\n",
    "\n",
    "# x=agent.chat_sync('''\n",
    "# 在剖面节点4与9之间内插一个新点50，50垂直于4和9连线，向左偏移距离3米\n",
    "#                 ''',response_format={\"type\": \"json_object\"})\n",
    "\n",
    "# print(x.return_value)"
   ]
  }
 ],
 "metadata": {
  "kernelspec": {
   "display_name": "Python 3",
   "language": "python",
   "name": "python3"
  },
  "language_info": {
   "codemirror_mode": {
    "name": "ipython",
    "version": 3
   },
   "file_extension": ".py",
   "mimetype": "text/x-python",
   "name": "python",
   "nbconvert_exporter": "python",
   "pygments_lexer": "ipython3",
   "version": "3.10.12"
  }
 },
 "nbformat": 4,
 "nbformat_minor": 5
}
