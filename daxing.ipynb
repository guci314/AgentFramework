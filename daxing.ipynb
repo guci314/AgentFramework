{
 "cells": [
  {
   "cell_type": "code",
   "execution_count": 2,
   "id": "29242607",
   "metadata": {},
   "outputs": [],
   "source": [
    "from python_core import *\n",
    "from llm_lazy import get_model"
   ]
  },
  {
   "cell_type": "code",
   "execution_count": null,
   "id": "78236157",
   "metadata": {},
   "outputs": [],
   "source": []
  },
  {
   "cell_type": "code",
   "execution_count": 4,
   "id": "9626d229",
   "metadata": {},
   "outputs": [
    {
     "data": {
      "text/plain": [
       "<module 'tianyanzi_api' from '/home/guci/aiProjects/AgentFrameWork/tianyanzi_api.py'>"
      ]
     },
     "execution_count": 4,
     "metadata": {},
     "output_type": "execute_result"
    },
    {
     "name": "stdout",
     "output_type": "stream",
     "text": [
      "调用c++实现模型某个点的左移：10\n",
      "已执行左移操作\n",
      "任务完成\n"
     ]
    },
    {
     "name": "stderr",
     "output_type": "stream",
     "text": [
      "2025-07-17 04:42:36,035 - root - INFO - === 开始评估 ===\n",
      "2025-07-17 04:42:36,037 - root - INFO - 使用 1 个评估器进行评估...\n",
      "2025-07-17 04:42:36,039 - root - INFO - 执行评估器 #1:\n",
      "2025-07-17 04:42:36,045 - root - INFO - 评估器 #1 评估结果: 成功\n",
      "2025-07-17 04:42:36,049 - root - INFO - === 评估总结 ===\n",
      "2025-07-17 04:42:36,050 - root - INFO - 整体评估结果: 成功\n",
      "2025-07-17 04:42:36,051 - root - INFO - 详细信息: 所有评估器都通过\n",
      "#1: 程序成功执行且输出了预期结果，无错误信息\n",
      "2025-07-17 04:42:36,053 - python_core - INFO - 开始生成指令最终结果\n",
      "2025-07-17 04:42:36,054 - python_core - INFO - result.success: True\n",
      "2025-07-17 04:42:36,055 - python_core - INFO - result.code: \n",
      "try:\n",
      "    '''\n",
      "    调用tianyanzi_api模块的left_move函数，\n",
      "    将模型的点左移10个单位\n",
      "    '''\n",
      "    tianyanzi_api.left_move(10)\n",
      "    \n",
      "    # 验证函数是否被调用\n",
      "    print(\"已执行左移操作\")\n",
      "    print(\"任务完成\")\n",
      "    \n",
      "except Exception as e:\n",
      "    print(f\"发生错误: {str(e)}\")\n",
      "2025-07-17 04:42:36,056 - python_core - INFO - result.stdout: 调用c++实现模型某个点的左移：10\n",
      "已执行左移操作\n",
      "任务完成\n",
      "\n",
      "2025-07-17 04:42:36,058 - python_core - INFO - result.stderr: None\n",
      "2025-07-17 04:42:36,059 - python_core - INFO - result.return_value: None\n"
     ]
    },
    {
     "name": "stdout",
     "output_type": "stream",
     "text": [
      "已成功将模型的点左移10个单位。操作执行过程如下：\n",
      "1. 调用底层C++实现的位移函数\n",
      "2. 完成10个单位的左移操作\n",
      "3. 系统返回执行成功状态\n",
      "\n",
      "当前模型点的新坐标已更新，如需进一步调整或其他操作请随时告知。\n"
     ]
    }
   ],
   "source": [
    "llm = get_model('deepseek_chat')\n",
    "agent = Agent(llm)\n",
    "agent.loadPythonModules([\"tianyanzi_api\"])\n",
    "x=agent.execute_sync(\"请把模型的点左移10个单位\")\n",
    "\n",
    "print(x.return_value)"
   ]
  },
  {
   "cell_type": "code",
   "execution_count": 5,
   "id": "d7ab11aa",
   "metadata": {},
   "outputs": [
    {
     "name": "stdout",
     "output_type": "stream",
     "text": [
      "{\n",
      "  \"偏移方向\": 1,\n",
      "  \"偏移距离\": 13,\n",
      "  \"起始点\": 40,\n",
      "  \"终止点\": 19,\n",
      "  \"新插点\": 38,\n",
      "  \"连线\": 1\n",
      "}\n"
     ]
    }
   ],
   "source": [
    "agent = Agent(llm)\n",
    "agent.loadKnowledge('''\n",
    "从用户的输入中提取出以下信息：\n",
    "偏移方向：整数\n",
    "偏移距离：整数\n",
    "起始点：整数\n",
    "终止点：整数\n",
    "新插点：整数\n",
    "连线：整数\n",
    "\n",
    "\n",
    "输出格式是json\n",
    "                    ''')\n",
    "x=agent.chat_sync('''\n",
    "有一个剖面，其中节点40与19之间内插一个点38，点38垂直与40和19线，并向右偏移13米\n",
    "                ''',response_format={\"type\": \"json_object\"})\n",
    "\n",
    "print(x.return_value)"
   ]
  }
 ],
 "metadata": {
  "kernelspec": {
   "display_name": "Python 3",
   "language": "python",
   "name": "python3"
  },
  "language_info": {
   "codemirror_mode": {
    "name": "ipython",
    "version": 3
   },
   "file_extension": ".py",
   "mimetype": "text/x-python",
   "name": "python",
   "nbconvert_exporter": "python",
   "pygments_lexer": "ipython3",
   "version": "3.10.12"
  }
 },
 "nbformat": 4,
 "nbformat_minor": 5
}
